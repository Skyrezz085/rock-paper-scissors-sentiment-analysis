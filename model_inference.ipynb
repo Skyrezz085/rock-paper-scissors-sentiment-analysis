{
  "cells": [
    {
      "cell_type": "markdown",
      "metadata": {
        "id": "lbr3TpCIKwGJ"
      },
      "source": [
        "# Import Libraries"
      ]
    },
    {
      "cell_type": "code",
      "execution_count": 1,
      "metadata": {
        "id": "upELZjRAq0wV"
      },
      "outputs": [],
      "source": [
        "import tensorflow as tf\n",
        "import cv2\n",
        "import numpy as np"
      ]
    },
    {
      "cell_type": "markdown",
      "metadata": {
        "id": "2um0lQZ3K1H0"
      },
      "source": [
        "# Load Model"
      ]
    },
    {
      "cell_type": "code",
      "execution_count": null,
      "metadata": {
        "id": "VgwZcC4qLJiW"
      },
      "outputs": [],
      "source": [
        "# Load model\n",
        "model = tf.keras.models.load_model('rock_paper_scissors_tl_vgg16.keras')"
      ]
    },
    {
      "cell_type": "markdown",
      "metadata": {
        "id": "Ys0Hvp2YLyu0"
      },
      "source": [
        "# Preprocessing"
      ]
    },
    {
      "cell_type": "code",
      "execution_count": null,
      "metadata": {
        "id": "-3DUsPS8q3bJ"
      },
      "outputs": [],
      "source": [
        "# Preprocess image\n",
        "def preprocess_image(image_path):\n",
        "  img = cv2.imread(image_path)\n",
        "  img = cv2.cvtColor(img, cv2.COLOR_BGR2RGB)\n",
        "  img = cv2.resize(img, (220, 220))\n",
        "  img = img / 255.0\n",
        "  return img"
      ]
    },
    {
      "cell_type": "code",
      "execution_count": null,
      "metadata": {
        "id": "8RU6hpYJq6ss"
      },
      "outputs": [],
      "source": [
        "# Predict image\n",
        "def predict_image(image_path):\n",
        "  img = preprocess_image(image_path)\n",
        "  img = np.expand_dims(img, axis=0)\n",
        "  prediction = model.predict(img)\n",
        "  class_names = ['paper', 'rock', 'scissors']\n",
        "  predicted_class = class_names[np.argmax(prediction)]\n",
        "  return predicted_class"
      ]
    },
    {
      "cell_type": "markdown",
      "metadata": {
        "id": "AlfnnlgUL-B2"
      },
      "source": [
        "# Predict"
      ]
    },
    {
      "cell_type": "code",
      "execution_count": null,
      "metadata": {
        "colab": {
          "base_uri": "https://localhost:8080/"
        },
        "id": "GarqpAL1q-TJ",
        "outputId": "79809aa2-2c67-4c39-f1c1-a325979b6219"
      },
      "outputs": [
        {
          "name": "stderr",
          "output_type": "stream",
          "text": [
            "WARNING:tensorflow:5 out of the last 13 calls to <function TensorFlowTrainer.make_predict_function.<locals>.one_step_on_data_distributed at 0x7d1a40405a20> triggered tf.function retracing. Tracing is expensive and the excessive number of tracings could be due to (1) creating @tf.function repeatedly in a loop, (2) passing tensors with different shapes, (3) passing Python objects instead of tensors. For (1), please define your @tf.function outside of the loop. For (2), @tf.function has reduce_retracing=True option that can avoid unnecessary retracing. For (3), please refer to https://www.tensorflow.org/guide/function#controlling_retracing and https://www.tensorflow.org/api_docs/python/tf/function for  more details.\n"
          ]
        },
        {
          "name": "stdout",
          "output_type": "stream",
          "text": [
            "\u001b[1m1/1\u001b[0m \u001b[32m━━━━━━━━━━━━━━━━━━━━\u001b[0m\u001b[37m\u001b[0m \u001b[1m2s\u001b[0m 2s/step\n",
            "Gambar tersebut diprediksi sebagai: paper\n"
          ]
        }
      ],
      "source": [
        "image_path = '/content/1MOm36DHK0R8OfIC.png'\n",
        "predicted_class = predict_image(image_path)\n",
        "print(f\"Gambar tersebut diprediksi sebagai: {predicted_class}\")"
      ]
    },
    {
      "cell_type": "code",
      "execution_count": null,
      "metadata": {
        "colab": {
          "base_uri": "https://localhost:8080/"
        },
        "id": "ME1MggyRrT1G",
        "outputId": "b271647e-cb33-4f0f-c6e6-fcb5c85195ab"
      },
      "outputs": [
        {
          "name": "stdout",
          "output_type": "stream",
          "text": [
            "\u001b[1m1/1\u001b[0m \u001b[32m━━━━━━━━━━━━━━━━━━━━\u001b[0m\u001b[37m\u001b[0m \u001b[1m0s\u001b[0m 26ms/step\n",
            "Gambar tersebut diprediksi sebagai: paper\n"
          ]
        }
      ],
      "source": [
        "image_path = '/content/images.jpg'\n",
        "predicted_class = predict_image(image_path)\n",
        "print(f\"Gambar tersebut diprediksi sebagai: {predicted_class}\")"
      ]
    },
    {
      "cell_type": "code",
      "execution_count": null,
      "metadata": {
        "colab": {
          "base_uri": "https://localhost:8080/"
        },
        "id": "TKUMAUAsrjgu",
        "outputId": "798943e0-8e53-4165-ac21-2f810156d666"
      },
      "outputs": [
        {
          "name": "stdout",
          "output_type": "stream",
          "text": [
            "\u001b[1m1/1\u001b[0m \u001b[32m━━━━━━━━━━━━━━━━━━━━\u001b[0m\u001b[37m\u001b[0m \u001b[1m0s\u001b[0m 29ms/step\n",
            "Gambar tersebut diprediksi sebagai: paper\n"
          ]
        }
      ],
      "source": [
        "image_path = '/content/images1.jpg'\n",
        "predicted_class = predict_image(image_path)\n",
        "print(f\"Gambar tersebut diprediksi sebagai: {predicted_class}\")"
      ]
    }
  ],
  "metadata": {
    "accelerator": "GPU",
    "colab": {
      "gpuType": "T4",
      "provenance": []
    },
    "kernelspec": {
      "display_name": "base",
      "language": "python",
      "name": "python3"
    },
    "language_info": {
      "name": "python",
      "version": "3.12.7"
    }
  },
  "nbformat": 4,
  "nbformat_minor": 0
}
